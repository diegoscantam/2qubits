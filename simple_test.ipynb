{
 "cells": [
  {
   "attachments": {},
   "cell_type": "markdown",
   "metadata": {},
   "source": [
    "Import libraries"
   ]
  },
  {
   "cell_type": "code",
   "execution_count": 91,
   "metadata": {},
   "outputs": [],
   "source": [
    "import math\n",
    "import numpy as np\n",
    "from qiskit import QuantumCircuit, transpile\n",
    "from qiskit.quantum_info import Statevector\n",
    "from qiskit_aer import AerSimulator\n",
    "from qiskit.opflow import X, Y, Z, I, CircuitStateFn\n",
    "from qiskit.visualization import plot_histogram\n",
    "pi = math.pi\n",
    "import pandas as pd\n",
    "import numpy as np\n",
    "import matplotlib.pyplot as plt\n",
    "from matplotlib.legend_handler import HandlerTuple\n",
    "from scipy.optimize import curve_fit"
   ]
  },
  {
   "attachments": {},
   "cell_type": "markdown",
   "metadata": {},
   "source": [
    "Calculation of variational ground state energies $E_1$ and $E_2$ and fit for $E_N$"
   ]
  },
  {
   "cell_type": "code",
   "execution_count": 92,
   "metadata": {},
   "outputs": [
    {
     "name": "stdout",
     "output_type": "stream",
     "text": [
      "Lowest trial energy for N=1:  -0.43639321108830453 MeV\n",
      "Lowest trial energy for N=2:  -1.7405935668994987 MeV\n"
     ]
    },
    {
     "data": {
      "image/png": "[encoded data removed]",
      "text/plain": [
       "<Figure size 1000x500 with 1 Axes>"
      ]
     },
     "metadata": {},
     "output_type": "display_data"
    }
   ],
   "source": [
    "# Define deuterion Hamiltonian in the computational basis\n",
    "Hamilt_1 = (0.218291 * Z^I) - (0.218291 * I^I)\n",
    "Hamilt_2 = (5.906709 * I^I) + (0.218291 * Z^I) - (6.125 * I^Z) - (2.143304 * X^X) - (2.143304 * Y^Y)\n",
    "\n",
    "# Deuteron parameters\n",
    "m = 1875.6 # MeV / c^2\n",
    "hbar_c = 197.326980 # Mev fm\n",
    "c = 2.99792458e+23 # fm /s\n",
    "omega = c* 7.0/hbar_c\n",
    "\n",
    "# Loop over variational parameter theta\n",
    "theta = np.arange(-2.9,+3.5,0.1)\n",
    "exp_val_1 = np.empty(len(theta))\n",
    "exp_val_2 = np.empty(len(theta))\n",
    "for kk in range(0, len(theta)):\n",
    "    # Create a Quantum Circuit acting on the q register, default both in the state |0>\n",
    "    circuit = QuantumCircuit(2)\n",
    "\n",
    "    # Add X gate to qubit 0\n",
    "    circuit.x(0)\n",
    "\n",
    "    # Angle of the rotation around y axis\n",
    "    th= theta[kk]\n",
    "\n",
    "    # Controlled unitary gate (rotation around y axis) on qubit 1\n",
    "    circuit.ry(th, 1)\n",
    "\n",
    "    # Add CNOT, control q1, target q0\n",
    "    circuit.cx(1,0)\n",
    "\n",
    "    # Initialize state\n",
    "    state= Statevector.from_int(0, 4)\n",
    "\n",
    "    # Evolve the state by the quantum circuit\n",
    "    state = state.evolve(circuit)\n",
    "\n",
    "    exp_val_1[kk]=state.expectation_value(Hamilt_1).real\n",
    "    exp_val_2[kk]=state.expectation_value(Hamilt_2).real\n",
    "\n",
    "\n",
    "# Map the quantum measurement to the classical bits\n",
    "#circuit.measure([0, 1], [0, 1])\n",
    "\n",
    "# Compile the circuit for the support instruction set (basis_gates)\n",
    "# and topology (coupling_map) of the backend\n",
    "#compiled_circuit = transpile(circuit, simulator)\n",
    "\n",
    "# Execute the circuit on the aer simulator\n",
    "#job = simulator.run(compiled_circuit, shots=10000)\n",
    "\n",
    "# Grab results from the job\n",
    "#result = job.result()\n",
    "\n",
    "# Returns counts\n",
    "#counts = result.get_counts(compiled_circuit)\n",
    "#print(\"\\nTotal count for 00 and 11 are:\", counts)\n",
    "\n",
    "\n",
    "# Draw the circuit\n",
    "#circuit.draw('mpl')\n",
    "\n",
    "# Plot style options\n",
    "w = 10\n",
    "h = 5\n",
    "fontsize = 12\n",
    "cmap = plt.get_cmap('tab20')\n",
    "\n",
    "# <H_2>(theta)\n",
    "plt.figure(figsize=(w,h))\n",
    "plt.scatter(theta, exp_val_2)\n",
    "plt.xlabel(\"$\\\\theta$\")\n",
    "plt.ylabel(\"$<H_2>$ (MeV)\")\n",
    "\n",
    "# Lowest trial energies\n",
    "E_1 =  min(exp_val_1)\n",
    "E_2 = min(exp_val_2)\n",
    "\n",
    "print('Lowest trial energy for N=1: ', E_1, 'MeV')\n",
    "print('Lowest trial energy for N=2: ', E_2, 'MeV')\n"
   ]
  },
  {
   "cell_type": "code",
   "execution_count": 93,
   "metadata": {},
   "outputs": [
    {
     "name": "stdout",
     "output_type": "stream",
     "text": [
      "Fit parameters [k gamma]= [ 0.42200883 12.56313784]\n",
      "Infinite-basis extrapolated binding energy:  -1.8486121344887874 MeV\n"
     ]
    }
   ],
   "source": [
    "# List of trial energies\n",
    "E_data = np.array([E_1 , E_2])\n",
    "\n",
    "# Effective hard-wall radius for N=1 and N=2\n",
    "L = np.array([9.14, 11.45])  # fm\n",
    "\n",
    "# Harmonic oscillator variant of Lüscher formula\n",
    "def E_N_func(x, k, gamma):\n",
    "    return -hbar_c*hbar_c*k*k/(2*m)*(1 - 2*gamma*gamma*np.exp(-2*k*x)/k - 4*(gamma**4)*x*np.exp(-4*k*x)/k)\n",
    "\n",
    "# Fit to k and gamma\n",
    "param, cov = curve_fit(E_N_func, L, E_data)\n",
    "\n",
    "print('Fit parameters [k gamma]=', param)\n",
    "# Results\n",
    "print('Infinite-basis extrapolated binding energy: ', -hbar_c*hbar_c*param[0]*param[0]/(2*m), 'MeV')"
   ]
  }
 ],
 "metadata": {
  "kernelspec": {
   "display_name": "base",
   "language": "python",
   "name": "python3"
  },
  "language_info": {
   "codemirror_mode": {
    "name": "ipython",
    "version": 3
   },
   "file_extension": ".py",
   "mimetype": "text/x-python",
   "name": "python",
   "nbconvert_exporter": "python",
   "pygments_lexer": "ipython3",
   "version": "3.8.10"
  },
  "orig_nbformat": 4
 },
 "nbformat": 4,
 "nbformat_minor": 2
}
